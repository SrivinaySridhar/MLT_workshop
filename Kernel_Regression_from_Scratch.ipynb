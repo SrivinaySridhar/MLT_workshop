{
  "nbformat": 4,
  "nbformat_minor": 0,
  "metadata": {
    "colab": {
      "provenance": [],
      "authorship_tag": "ABX9TyM62Ec3W9DoC9+UhowhIIpc",
      "include_colab_link": true
    },
    "kernelspec": {
      "name": "python3",
      "display_name": "Python 3"
    },
    "language_info": {
      "name": "python"
    }
  },
  "cells": [
    {
      "cell_type": "markdown",
      "metadata": {
        "id": "view-in-github",
        "colab_type": "text"
      },
      "source": [
        "<a href=\"https://colab.research.google.com/github/SrivinaySridhar/MLT_workshop/blob/main/Kernel_Regression_from_Scratch.ipynb\" target=\"_parent\"><img src=\"https://colab.research.google.com/assets/colab-badge.svg\" alt=\"Open In Colab\"/></a>"
      ]
    },
    {
      "cell_type": "code",
      "execution_count": 1,
      "metadata": {
        "id": "3RQLKkM58BiF"
      },
      "outputs": [],
      "source": [
        "import numpy as np\n",
        "import matplotlib.pyplot as plt\n",
        "import random"
      ]
    },
    {
      "cell_type": "markdown",
      "source": [
        "## Data\n",
        "\n",
        "$\\mathbf{X}$ is a feature matrix corresponding to $n$ training examples, each represented with $d$ features and has shape $d \\times n$.  \n",
        "\\begin{equation}\n",
        "  \\mathbf{X}_{d \\times n} = \\begin{bmatrix}\n",
        "       | & | &\\dots & |\\\\\n",
        "       \\mathbf{x}_{1}&  \n",
        "       \\mathbf{x}_{2} &\n",
        "      \\dots &\n",
        "       \\mathbf{x}_{n}  \\\\\n",
        "        | & | &\\dots & |\\\\\n",
        "    \\end{bmatrix}\n",
        "\\end{equation}\n",
        "\n",
        "* here each $\\mathbf{x}_i \\in \\mathbb{R}^d$\n",
        "\n",
        "*  $\\mathbf{y}$ is a label vector of shape $n \\times 1$.  \n",
        "\\begin{equation}\n",
        "    \\mathbf{y} = \\begin{bmatrix}\n",
        "        y_{1}  \\\\\n",
        "        y_{2} \\\\\n",
        "        \\vdots  \\\\\n",
        "        y_{n} \\\\\n",
        "      \\end{bmatrix}\n",
        "\\end{equation}\n",
        "\n",
        "*  The $i$-th entry in this vector, $\\mathbf{y}[i]$ gives label for $i$-th example, which is denoted by $y_{i} \\in \\mathbb{R}$."
      ],
      "metadata": {
        "id": "FAlr8M-Z8Zor"
      }
    },
    {
      "cell_type": "markdown",
      "source": [
        "### Training data\n",
        "\n",
        "Generated from a deterministic distribution with Noise ~ Normal(0, 1)\n",
        "\n",
        "$$y_{train} = 2X^3 + 3X^2 + 4 + Noise$$"
      ],
      "metadata": {
        "id": "5xKGE4b6hTq5"
      }
    },
    {
      "cell_type": "code",
      "source": [
        "rng = np.random.default_rng(seed = 101)\n",
        "\n",
        "X_train = (np.arange(-2, 2, 0.01).reshape(1, -1))\n",
        "\n",
        "y_train = (2 * (X_train)**3 + 3 * (X_train)**2 + 4 + rng.normal(0, 1, X_train.shape[1]).reshape(1, -1)).T"
      ],
      "metadata": {
        "id": "GbDDcyLKiGsq"
      },
      "execution_count": 2,
      "outputs": []
    },
    {
      "cell_type": "code",
      "source": [
        "X_train.shape, y_train.shape"
      ],
      "metadata": {
        "colab": {
          "base_uri": "https://localhost:8080/"
        },
        "id": "W5D5VxgK_A6o",
        "outputId": "be19a980-35ee-4ff3-eb37-42c103697149"
      },
      "execution_count": 3,
      "outputs": [
        {
          "output_type": "execute_result",
          "data": {
            "text/plain": [
              "((1, 400), (400, 1))"
            ]
          },
          "metadata": {},
          "execution_count": 3
        }
      ]
    },
    {
      "cell_type": "code",
      "source": [
        "plt.scatter(X_train, y_train);"
      ],
      "metadata": {
        "colab": {
          "base_uri": "https://localhost:8080/",
          "height": 430
        },
        "id": "OUqra1H_A_vb",
        "outputId": "ffc12edf-50ac-4206-d023-9ed8c1498ba2"
      },
      "execution_count": 4,
      "outputs": [
        {
          "output_type": "display_data",
          "data": {
            "text/plain": [
              "<Figure size 640x480 with 1 Axes>"
            ],
            "image/png": "[encoded data removed]"
          },
          "metadata": {}
        }
      ]
    },
    {
      "cell_type": "markdown",
      "source": [
        "### Test data\n",
        "\n",
        "Generated from a deterministic distribution with Noise ~ Normal(0, 2)\n",
        "\n",
        "$$y_{test} = 2X^3 + 3X^2 + 4 + Noise$$"
      ],
      "metadata": {
        "id": "ffSQPM_4BQya"
      }
    },
    {
      "cell_type": "code",
      "source": [
        "rng = np.random.default_rng(seed = 102)\n",
        "\n",
        "X_test = np.arange(-2, 2, 0.02).reshape(1, -1)\n",
        "\n",
        "y_test = (2 * (X_test)**3 + 3 * (X_test)**2 + 4 + rng.normal(0, 2, X_test.shape[1]).reshape(1, -1)).T"
      ],
      "metadata": {
        "id": "kACpsUAh8Xpx"
      },
      "execution_count": 5,
      "outputs": []
    },
    {
      "cell_type": "code",
      "source": [
        "X_test.shape, y_test.shape"
      ],
      "metadata": {
        "colab": {
          "base_uri": "https://localhost:8080/"
        },
        "id": "7qbkXfUKwmF3",
        "outputId": "deb91cb4-4a94-4851-9753-c20caee218e4"
      },
      "execution_count": 6,
      "outputs": [
        {
          "output_type": "execute_result",
          "data": {
            "text/plain": [
              "((1, 200), (200, 1))"
            ]
          },
          "metadata": {},
          "execution_count": 6
        }
      ]
    },
    {
      "cell_type": "markdown",
      "source": [
        "## Model\n",
        "\n",
        "Linear regression model for the dataset ${\\mathbb{x}, y}$ is given as\n",
        "$$h_w(\\mathbb{x}) = w_1x^{1}+w_2x^{2}+...+w_dx^{d} =  \\mathbf{x}^Tw\n",
        "$$\n",
        "\n",
        "where $x^{i}$ is the $i^{th}$ feature of the data point $\\mathbf{x}$ and $w = [w_1, w_2, ...w_d]^T$ is the weight vector.\n",
        "\n",
        "\n",
        "Notice that above model always pass through the origin but for a given dataset, best fit model need not pass through the origin. To tackle this issue, we add an intercept $w_0$ in the model and set the corresponding featrue $x^{0}$ to $1$. That is\n",
        "\n",
        "$$h_w(\\mathbb{x}) =w_0x^{0}+ w_1x^{1}+w_2x^{2}+...+w_dx^{n} =  \\mathbf{x}^Tw\n",
        "$$\n",
        "\n",
        "We call $x^{0}$ the dummy feature and set its value to 1 for each examples. Now $w$ is of shape $(d+1, 1)$ and $\\mathbf{X}$ is of shape $(d+1, n)$ where the first row of $\\mathbf{X}$ has entries as 1.\n"
      ],
      "metadata": {
        "id": "EmK77bhCkKI-"
      }
    },
    {
      "cell_type": "markdown",
      "source": [
        "### Add dummy feature"
      ],
      "metadata": {
        "id": "A156drNBk37x"
      }
    },
    {
      "cell_type": "code",
      "source": [
        "dummy_feature = np.ones(X_train.shape[1])\n",
        "X = np.row_stack((dummy_feature, X_train))"
      ],
      "metadata": {
        "id": "h1SiEEmyCgCx"
      },
      "execution_count": 7,
      "outputs": []
    },
    {
      "cell_type": "code",
      "source": [
        "X.shape"
      ],
      "metadata": {
        "colab": {
          "base_uri": "https://localhost:8080/"
        },
        "id": "jFzjXIybC6Ij",
        "outputId": "5abc9e85-5732-437c-face-1e0e36566501"
      },
      "execution_count": 8,
      "outputs": [
        {
          "output_type": "execute_result",
          "data": {
            "text/plain": [
              "(2, 400)"
            ]
          },
          "metadata": {},
          "execution_count": 8
        }
      ]
    },
    {
      "cell_type": "markdown",
      "source": [
        "Test data"
      ],
      "metadata": {
        "id": "ivJZNL_aC8_Q"
      }
    },
    {
      "cell_type": "code",
      "source": [
        "dummy_feature_t = np.ones(X_test.shape[1])\n",
        "X_t = np.row_stack((dummy_feature_t, X_test))"
      ],
      "metadata": {
        "id": "vIZA0Ls6DA-3"
      },
      "execution_count": 9,
      "outputs": []
    },
    {
      "cell_type": "code",
      "source": [
        "X_t.shape"
      ],
      "metadata": {
        "colab": {
          "base_uri": "https://localhost:8080/"
        },
        "id": "BhLm2D8iDXpn",
        "outputId": "003022f1-8edc-4e3c-e985-3a5d42581168"
      },
      "execution_count": 10,
      "outputs": [
        {
          "output_type": "execute_result",
          "data": {
            "text/plain": [
              "(2, 200)"
            ]
          },
          "metadata": {},
          "execution_count": 10
        }
      ]
    },
    {
      "cell_type": "markdown",
      "source": [
        "## Loss function\n",
        "\n",
        "The total loss is the sum of square of errors between actual and predicted labels for each training point.  \n",
        "\n",
        "The error for $i$-th training point is calculated as follows:\n",
        "\\begin{eqnarray}\n",
        "e^{(i)} &=& (\\mathrm{{actual\\ label} - {predicted\\ label}})^2 \\\\\n",
        "        &=& \\left ({y_{i}} -\n",
        "        {h_{\\mathbf{w}}(\\mathbf{x}_{i})} \\right)^2 \\\\\n",
        "        &=& \\left ({y_{i}} -\n",
        "        {\\mathbf{w}^T \\mathbf{x}_{i}} \\right)^2\n",
        "\\end{eqnarray}\n",
        "\n",
        "\n",
        "\n",
        "The total loss $L(\\mathbf{w})$ is sum of errors at each training point:\n",
        "\\begin{equation}\n",
        "L(\\mathbf{w}) = \\sum_{i=1}^{n} e^{(i)}\n",
        "\\end{equation}\n",
        "\n",
        "We divide this by $\\frac{1}{2}$ for mathematical convenience in later use:\n",
        "\n",
        "\n",
        "\\begin{eqnarray}\n",
        "  L(\\mathbf{w}) &=& \\frac{1}{2} \\sum_{i=1}^{n} e^{(i)} \\\\ &=&  \\frac{1}{2} \\left({{\\mathbf{X}^T \\mathbf{w}}} - \\mathbf{y} \\right)^T \\left({{\\mathbf{X}^T \\mathbf{w}}} - \\mathbf{y} \\right))\n",
        "\\end{eqnarray}\n"
      ],
      "metadata": {
        "id": "Wp1v00V9lBMd"
      }
    },
    {
      "cell_type": "markdown",
      "source": [
        "## Optimization\n",
        "\n"
      ],
      "metadata": {
        "id": "MQtN8F2j9r42"
      }
    },
    {
      "cell_type": "markdown",
      "source": [
        "#### 1. Normal equation\n",
        "\n",
        "Let's set $\\dfrac{\\partial L(\\mathbf{w})}{\\partial \\mathbf{w}}$ to 0 and solve for $\\mathbf{w}$:\n",
        "\\begin{eqnarray}\n",
        "\\frac{\\partial L(\\mathbf{w})}{\\partial \\mathbf{w}} &=& \\mathbf{X} \\mathbf{X}^T \\mathbf{w} - \\mathbf{X} \\mathbf{y} = 0 \\\\\n",
        "\\mathbf{X}^T \\mathbf{X} \\mathbf{w} &=& \\mathbf{X}^T \\mathbf{Y} \\\\\n",
        "\\mathbf{w} &=& \\left( \\mathbf{X} \\mathbf{X}^T \\right)^{-1} \\mathbf{X} \\mathbf{y}\n",
        "\\end{eqnarray}\n",
        "\n"
      ],
      "metadata": {
        "id": "GvxZvoJO-OIn"
      }
    },
    {
      "cell_type": "markdown",
      "source": [
        "#### Find weight vector and prediction for training and test dataset"
      ],
      "metadata": {
        "id": "gwcJYj2Ml71z"
      }
    },
    {
      "cell_type": "code",
      "source": [
        "### weight\n",
        "def weights(X, y):\n",
        "    return np.linalg.pinv(X@(X.T))@X@y"
      ],
      "metadata": {
        "id": "UiO64nmAeSkz"
      },
      "execution_count": 11,
      "outputs": []
    },
    {
      "cell_type": "code",
      "source": [
        "w = weights(X, y_train)\n",
        "w"
      ],
      "metadata": {
        "colab": {
          "base_uri": "https://localhost:8080/"
        },
        "id": "IUswb7ATD1l4",
        "outputId": "a51ed8e9-419d-4836-c55b-9bfbc47d66c4"
      },
      "execution_count": 12,
      "outputs": [
        {
          "output_type": "execute_result",
          "data": {
            "text/plain": [
              "array([[7.93982825],\n",
              "       [4.79910241]])"
            ]
          },
          "metadata": {},
          "execution_count": 12
        }
      ]
    },
    {
      "cell_type": "markdown",
      "source": [
        "## Evaluation\n",
        "\n",
        "##### RMSE $$ \\sqrt{\\dfrac{1}{n}\\sum\\limits_{i=1}^{n} (y_i- \\hat{y}_i)^2}\n",
        "$$\n",
        "\n"
      ],
      "metadata": {
        "id": "Sk1KvxpCn1Xr"
      }
    },
    {
      "cell_type": "code",
      "source": [
        "### Loss function\n",
        "def loss(y, y_hat):\n",
        "    return np.sqrt(np.mean((y - y_hat)**2))"
      ],
      "metadata": {
        "id": "zVMo6BF_ediw"
      },
      "execution_count": 13,
      "outputs": []
    },
    {
      "cell_type": "markdown",
      "source": [
        "## Kernel Regression\n",
        "\n"
      ],
      "metadata": {
        "id": "Nco8j8s1VOFa"
      }
    },
    {
      "cell_type": "markdown",
      "source": [
        "* The optimal weight vector can be written as linear combination of data points.\n",
        "\n",
        "---\n",
        "\n",
        "Let $\\phi$ be the trainsformation mapping that trasforms the $d$-dimensional data points to $D$-dimension.\n",
        "\n",
        "$$\\phi: \\mathbb{R}^d \\rightarrow \\mathbb{R}^D$$\n",
        "\n",
        "Then\n",
        "\n",
        "$$\\mathbf{w} = \\phi(\\mathbf{X})\\alpha$$\n",
        "\n",
        "where,\n",
        "\n",
        "* $\\mathbf{X}$ = Feature matrix of shape $(d, n)$\n",
        "* $\\alpha = [\\alpha_1, \\alpha_2, ..., \\alpha_n]^T \\in \\mathbb{R}^n$\n",
        "\n"
      ],
      "metadata": {
        "id": "-lEj5azOBtAd"
      }
    },
    {
      "cell_type": "markdown",
      "source": [
        "Here\n",
        "\n",
        "$$\\alpha = K^{-1}y$$\n",
        "\n",
        "where,\n",
        "\\begin{equation}\n",
        " K_{n \\times n} = \\begin{bmatrix}\n",
        "       k(\\mathbf{x}_1,\\mathbf{x}_1) & k(\\mathbf{x}_1,\\mathbf{x}_2) &\\dots & k(\\mathbf{x}_1,\\mathbf{x}_n)\\\\\n",
        "        k(\\mathbf{x}_2,\\mathbf{x}_1) & k(\\mathbf{x}_2,\\mathbf{x}_2) &\\dots & k(\\mathbf{x}_2,\\mathbf{x}_n)\\\\\n",
        "        \\vdots & \\vdots & \\dots & \\vdots\\\\\n",
        "       k(\\mathbf{x}_n,\\mathbf{x}_1) & k(\\mathbf{x}_n,\\mathbf{x}_2) &\\dots & k(\\mathbf{x}_n,\\mathbf{x}_n)\\\\\n",
        "    \\end{bmatrix}\n",
        "\\end{equation}\n",
        "\n",
        "Here, $k$ is the kernel function\n",
        "\n",
        "$$k: \\mathbb{R}^d \\times \\mathbb{R}^d \\rightarrow \\mathbb{R}\\\\ k(x_1, x_2) = \\phi(x_1)^T\\phi(x_2)\n",
        "$$"
      ],
      "metadata": {
        "id": "kp20Xt_GDT3B"
      }
    },
    {
      "cell_type": "markdown",
      "source": [
        "## Prediction"
      ],
      "metadata": {
        "id": "__g386ueGBoH"
      }
    },
    {
      "cell_type": "markdown",
      "source": [
        "For a test point $\\mathbf{x}_t$, prediction is given by\n",
        "\n",
        "$$\\sum\\limits_{i=1}^{n}k(\\mathbf{x}_i, \\mathbf{x}_t)\\alpha_i$$\n",
        "\n"
      ],
      "metadata": {
        "id": "WEkJCpdVGFQ3"
      }
    },
    {
      "cell_type": "markdown",
      "source": [
        "#### Polynomial kernel of degree $p$:\n",
        "\n",
        "\n",
        "$k(\\mathbf{x}_1, \\mathbf{x}_2) = (\\mathbf{x}_1^T\\mathbf{x}_2+1)^p$"
      ],
      "metadata": {
        "id": "AGPoE7q3Hx-d"
      }
    },
    {
      "cell_type": "markdown",
      "source": [
        "\\begin{equation}\n",
        "  \\mathbf{X} = \\begin{bmatrix}\n",
        "       | & | &\\dots & |\\\\\n",
        "       \\mathbf{x}_{1}&  \n",
        "       \\mathbf{x}_{2} &\n",
        "      \\dots &\n",
        "       \\mathbf{x}_{n}  \\\\\n",
        "        | & | &\\dots & |\\\\\n",
        "    \\end{bmatrix}\n",
        "\\end{equation}\n",
        "\n",
        "\\begin{equation}\n",
        "  \\mathbf{X^TX} =\\begin{bmatrix}\n",
        "       | & | &\\dots & |\\\\\n",
        "       \\mathbf{x}_{1}&  \n",
        "       \\mathbf{x}_{2} &\n",
        "      \\dots &\n",
        "       \\mathbf{x}_{n}  \\\\\n",
        "        | & | &\\dots & |\\\\\n",
        "    \\end{bmatrix}^T\\begin{bmatrix}\n",
        "       | & | &\\dots & |\\\\\n",
        "       \\mathbf{x}_{1}&  \n",
        "       \\mathbf{x}_{2} &\n",
        "      \\dots &\n",
        "       \\mathbf{x}_{n}  \\\\\n",
        "        | & | &\\dots & |\\\\\n",
        "    \\end{bmatrix}\n",
        "    =  \\begin{bmatrix}\n",
        "       \\mathbf{x}_1^T\\mathbf{x}_{1} &  \\mathbf{x}_1^T\\mathbf{x}_{2}  &\\dots &  \\mathbf{x}_1^T\\mathbf{x}_{m} \\\\\n",
        "      \\mathbf{x}_2^T\\mathbf{x}_{1} &  \\mathbf{x}_2^T\\mathbf{x}_{2}  &\\dots &  \\mathbf{x}_2^T\\mathbf{x}_{m} \\\\\n",
        "        \\vdots & \\vdots &\\dots & \\vdots\\\\\n",
        "         \\mathbf{x}_n^T\\mathbf{x}_{1} &  \\mathbf{x}_n^T\\mathbf{x}_{2}  &\\dots &  \\mathbf{x}_n^T\\mathbf{x}_{m} \\\\\n",
        "    \\end{bmatrix}\n",
        "\\end{equation}\n"
      ],
      "metadata": {
        "id": "0VlFDad_Dloi"
      }
    },
    {
      "cell_type": "code",
      "source": [
        "# Polynomial Kernel\n",
        "def poly_kernel(X, p):\n",
        "    return (X.T@X+1)**p"
      ],
      "metadata": {
        "id": "EhpPUAOuLNkp"
      },
      "execution_count": 14,
      "outputs": []
    },
    {
      "cell_type": "code",
      "source": [
        "# coef vector alpha\n",
        "def coef(X_train, y,  p):\n",
        "    K = poly_kernel(X_train, p)\n",
        "    return (np.linalg.pinv(K))@y"
      ],
      "metadata": {
        "id": "fUTLgwU0TBj0"
      },
      "execution_count": 15,
      "outputs": []
    },
    {
      "cell_type": "markdown",
      "source": [
        "#### For prediction\n",
        "\n",
        "Let the training data matrix with $n$ examples is given by\n",
        " \\begin{equation}\n",
        "  \\mathbf{X}_{train} = \\begin{bmatrix}\n",
        "       | & | &\\dots & |\\\\\n",
        "       \\mathbf{x}_{1}&  \n",
        "       \\mathbf{x}_{2} &\n",
        "      \\dots &\n",
        "       \\mathbf{x}_{n}  \\\\\n",
        "        | & | &\\dots & |\\\\\n",
        "    \\end{bmatrix}\n",
        "\\end{equation}\n",
        "\n",
        "and the test data matrix with $m$ examples is given by\n",
        " \\begin{equation}\n",
        "  \\mathbf{X}_{test} = \\begin{bmatrix}\n",
        "       | & | &\\dots & |\\\\\n",
        "       \\mathbf{x}_{t1}&  \n",
        "       \\mathbf{x}_{t2} &\n",
        "      \\dots &\n",
        "       \\mathbf{x}_{tm}  \\\\\n",
        "        | & | &\\dots & |\\\\\n",
        "    \\end{bmatrix}\n",
        "\\end{equation}\n",
        "\n",
        "----\n",
        "\n",
        "Then\n",
        "\n",
        "\\begin{equation}\n",
        "  \\mathbf{X}_{train}^T \\mathbf{X}_{test}  = \\begin{bmatrix}\n",
        "       \\mathbf{x}_1^T\\mathbf{x}_{t1} &  \\mathbf{x}_1^T\\mathbf{x}_{t2}  &\\dots &  \\mathbf{x}_1^T\\mathbf{x}_{tm} \\\\\n",
        "      \\mathbf{x}_2^T\\mathbf{x}_{t1} &  \\mathbf{x}_2^T\\mathbf{x}_{t2}  &\\dots &  \\mathbf{x}_2^T\\mathbf{x}_{tm} \\\\\n",
        "        \\vdots & \\vdots &\\dots & \\vdots\\\\\n",
        "         \\mathbf{x}_n^T\\mathbf{x}_{t1} &  \\mathbf{x}_n^T\\mathbf{x}_{t2}  &\\dots &  \\mathbf{x}_n^T\\mathbf{x}_{tm} \\\\\n",
        "    \\end{bmatrix}\n",
        "\\end{equation}\n"
      ],
      "metadata": {
        "id": "TkjwkpKpOXxH"
      }
    },
    {
      "cell_type": "code",
      "source": [
        "# Prediction\n",
        "def prediction(X_train, y_train, X_test, p):\n",
        "    alpha = coef(X_train, y_train, p)\n",
        "    K = (X_train.T @ X_test + 1)**p\n",
        "    return K.T @ alpha"
      ],
      "metadata": {
        "id": "72M-Xoiwe8Ew"
      },
      "execution_count": 16,
      "outputs": []
    },
    {
      "cell_type": "markdown",
      "source": [
        "Training"
      ],
      "metadata": {
        "id": "m1Ljxa6qTmGA"
      }
    },
    {
      "cell_type": "code",
      "source": [
        "y_hat = prediction(X_train, y_train, X_train, 3)"
      ],
      "metadata": {
        "id": "Ru9U9p80Tawj"
      },
      "execution_count": 17,
      "outputs": []
    },
    {
      "cell_type": "code",
      "source": [
        "loss(y_train, y_hat)"
      ],
      "metadata": {
        "colab": {
          "base_uri": "https://localhost:8080/"
        },
        "id": "dnjHvfqPTeX3",
        "outputId": "5b4178e7-9804-4f9f-e8fc-b8ebd272cfce"
      },
      "execution_count": 18,
      "outputs": [
        {
          "output_type": "execute_result",
          "data": {
            "text/plain": [
              "1.0061212525621974"
            ]
          },
          "metadata": {},
          "execution_count": 18
        }
      ]
    },
    {
      "cell_type": "markdown",
      "source": [
        "Test"
      ],
      "metadata": {
        "id": "r4g2p56NVCoS"
      }
    },
    {
      "cell_type": "code",
      "source": [
        "y_hat_t = prediction(X_train, y_train, X_test, 3)"
      ],
      "metadata": {
        "id": "H6taeBlrVD3P"
      },
      "execution_count": 19,
      "outputs": []
    },
    {
      "cell_type": "code",
      "source": [
        "loss(y_test, y_hat_t)"
      ],
      "metadata": {
        "colab": {
          "base_uri": "https://localhost:8080/"
        },
        "id": "BuL2gGmSVINT",
        "outputId": "775f49f3-6328-46a1-a70b-2717aa45d449"
      },
      "execution_count": 20,
      "outputs": [
        {
          "output_type": "execute_result",
          "data": {
            "text/plain": [
              "2.1103921105921506"
            ]
          },
          "metadata": {},
          "execution_count": 20
        }
      ]
    },
    {
      "cell_type": "markdown",
      "source": [
        "### degree vs loss"
      ],
      "metadata": {
        "id": "5OnaPAgPU29n"
      }
    },
    {
      "cell_type": "code",
      "source": [
        "### Plot degree vs loss\n",
        "degrees = [2, 3, 4, 5, 6]\n",
        "loss_train = []\n",
        "loss_test = []\n",
        "\n",
        "for d in degrees:\n",
        "    # Training\n",
        "    y_hat = prediction(X_train, y_train, X_train, d)\n",
        "    loss_train_iter = loss(y_train, y_hat)\n",
        "    loss_train.append(loss_train_iter)\n",
        "\n",
        "    # Testing\n",
        "    y_hat_t = prediction(X_train, y_train, X_test, d)\n",
        "    loss_test_iter = loss(y_test, y_hat_t)\n",
        "    loss_test.append(loss_test_iter)"
      ],
      "metadata": {
        "id": "70cn-98Se9lH"
      },
      "execution_count": 21,
      "outputs": []
    },
    {
      "cell_type": "code",
      "source": [
        "plt.plot(degrees, loss_train, label = \"Training loss\")\n",
        "plt.plot(degrees, loss_test, label = \"Test loss\")\n",
        "plt.legend();"
      ],
      "metadata": {
        "colab": {
          "base_uri": "https://localhost:8080/",
          "height": 430
        },
        "id": "VP46eOrsX_TS",
        "outputId": "14969d08-7b79-440e-8d44-c72f2726da64"
      },
      "execution_count": 22,
      "outputs": [
        {
          "output_type": "display_data",
          "data": {
            "text/plain": [
              "<Figure size 640x480 with 1 Axes>"
            ],
            "image/png": "[encoded data removed]"
          },
          "metadata": {}
        }
      ]
    }
  ]
}