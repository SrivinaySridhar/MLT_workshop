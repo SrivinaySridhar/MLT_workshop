{
  "nbformat": 4,
  "nbformat_minor": 0,
  "metadata": {
    "colab": {
      "provenance": [],
      "include_colab_link": true
    },
    "kernelspec": {
      "name": "python3",
      "display_name": "Python 3"
    },
    "language_info": {
      "name": "python"
    }
  },
  "cells": [
    {
      "cell_type": "markdown",
      "metadata": {
        "id": "view-in-github",
        "colab_type": "text"
      },
      "source": [
        "<a href=\"https://colab.research.google.com/github/SrivinaySridhar/MLT_workshop/blob/main/Sampling_and_Visualisation.ipynb\" target=\"_parent\"><img src=\"https://colab.research.google.com/assets/colab-badge.svg\" alt=\"Open In Colab\"/></a>"
      ]
    },
    {
      "cell_type": "markdown",
      "source": [
        "# Sampling from Distributions, Bar Plots, Histograms and Scatter plots"
      ],
      "metadata": {
        "id": "QM2BAmxAaWpZ"
      }
    },
    {
      "cell_type": "markdown",
      "source": [
        "## Import and Settings\n",
        "\n",
        "We will import `NumPy` and `matplotlib`. In addition, we will also start with some customised layout for the plot."
      ],
      "metadata": {
        "id": "wVwN9M-ZaaV1"
      }
    },
    {
      "cell_type": "code",
      "source": [
        "import numpy as np\n",
        "import matplotlib.pyplot as plt\n",
        "rng = np.random.default_rng()"
      ],
      "metadata": {
        "id": "mT4Fnwyvan_v"
      },
      "execution_count": 3,
      "outputs": []
    },
    {
      "cell_type": "markdown",
      "source": [
        "## Sampling and Plotting\n",
        "\n",
        "`NumPy` provides a utility to generate pseudo-random numbers. We shall try to sample points from various distributions. Once we have a sample, we can then represent it pictorially using suitable plots."
      ],
      "metadata": {
        "id": "9yBRSJpe1TaM"
      }
    },
    {
      "cell_type": "code",
      "source": [
        "rng.integers(0, 100, 10)"
      ],
      "metadata": {
        "colab": {
          "base_uri": "https://localhost:8080/"
        },
        "id": "fdVB-vosdqrm",
        "outputId": "7474ea06-6bdc-41d2-a1d5-d7d0742faf69"
      },
      "execution_count": 2,
      "outputs": [
        {
          "output_type": "execute_result",
          "data": {
            "text/plain": [
              "array([26,  8, 14, 91, 65, 24, 56, 49, 28, 63])"
            ]
          },
          "metadata": {},
          "execution_count": 2
        }
      ]
    },
    {
      "cell_type": "markdown",
      "source": [
        "### Sampling: Bernoulli\n",
        "\n",
        "Let us generate a sample of $1000$ points from the $\\text{Br}(0.7)$.\n",
        "\n",
        "In `NumPy`:"
      ],
      "metadata": {
        "id": "lVd75olS4KnQ"
      }
    },
    {
      "cell_type": "code",
      "source": [
        "X = rng.choice([0, 1], p = [0.3, 0.7], size = 1_000_000)\n",
        "X.shape"
      ],
      "metadata": {
        "id": "9R1hsH361xL3",
        "colab": {
          "base_uri": "https://localhost:8080/"
        },
        "outputId": "8cd707d5-4695-4399-9a41-1c2c99cdb74b"
      },
      "execution_count": 26,
      "outputs": [
        {
          "output_type": "execute_result",
          "data": {
            "text/plain": [
              "(1000000,)"
            ]
          },
          "metadata": {},
          "execution_count": 26
        }
      ]
    },
    {
      "cell_type": "code",
      "source": [
        "X"
      ],
      "metadata": {
        "colab": {
          "base_uri": "https://localhost:8080/"
        },
        "id": "qi_-SmOt_Uta",
        "outputId": "5a573323-b394-4793-942f-df521702d9ca"
      },
      "execution_count": 27,
      "outputs": [
        {
          "output_type": "execute_result",
          "data": {
            "text/plain": [
              "array([1, 1, 1, ..., 1, 1, 0])"
            ]
          },
          "metadata": {},
          "execution_count": 27
        }
      ]
    },
    {
      "cell_type": "code",
      "source": [
        "a = np.array([1, 0, 0, 1])\n",
        "a == 0"
      ],
      "metadata": {
        "colab": {
          "base_uri": "https://localhost:8080/"
        },
        "id": "9YLHWulWnPcz",
        "outputId": "c06b4fd3-e82c-4127-cc54-0266b6cf5047"
      },
      "execution_count": 28,
      "outputs": [
        {
          "output_type": "execute_result",
          "data": {
            "text/plain": [
              "array([False,  True,  True, False])"
            ]
          },
          "metadata": {},
          "execution_count": 28
        }
      ]
    },
    {
      "cell_type": "code",
      "source": [
        "a[a == 0]"
      ],
      "metadata": {
        "colab": {
          "base_uri": "https://localhost:8080/"
        },
        "id": "CYVFKEZinx-P",
        "outputId": "27da40fd-62c3-4d5c-8f59-993ad4822d4a"
      },
      "execution_count": 29,
      "outputs": [
        {
          "output_type": "execute_result",
          "data": {
            "text/plain": [
              "array([0, 0])"
            ]
          },
          "metadata": {},
          "execution_count": 29
        }
      ]
    },
    {
      "cell_type": "markdown",
      "source": [
        "### Plotting: Bar plot\n",
        "\n",
        "Visualise the sample using a bar plot."
      ],
      "metadata": {
        "id": "v2sX5_B15Ncl"
      }
    },
    {
      "cell_type": "code",
      "source": [
        "X[X == 1].shape[0]"
      ],
      "metadata": {
        "colab": {
          "base_uri": "https://localhost:8080/"
        },
        "id": "Ehpg92FLoP4K",
        "outputId": "707fb4bc-027f-43b4-9ce6-e40f7752286f"
      },
      "execution_count": 30,
      "outputs": [
        {
          "output_type": "execute_result",
          "data": {
            "text/plain": [
              "700095"
            ]
          },
          "metadata": {},
          "execution_count": 30
        }
      ]
    },
    {
      "cell_type": "code",
      "source": [
        "n_ones = X[X == 1].shape[0]\n",
        "n_zeros = X[X == 0].shape[0]\n",
        "print(n_ones, n_zeros)\n",
        "plt.bar([0, 1], [n_zeros, n_ones]);"
      ],
      "metadata": {
        "id": "p8OcBjwY5ZE3",
        "colab": {
          "base_uri": "https://localhost:8080/",
          "height": 448
        },
        "outputId": "1cce05e2-7f05-41b6-fb6c-a5b475fcf8d8"
      },
      "execution_count": 10,
      "outputs": [
        {
          "output_type": "stream",
          "name": "stdout",
          "text": [
            "699785 300215\n"
          ]
        },
        {
          "output_type": "display_data",
          "data": {
            "text/plain": [
              "<Figure size 640x480 with 1 Axes>"
            ],
            "image/png": "[encoded data removed]"
          },
          "metadata": {}
        }
      ]
    },
    {
      "cell_type": "code",
      "source": [
        "rng.choice([1, 2, 3, 4, 5, 6],\n",
        "           p = [0.999, 0.001, 0, 0, 0, 0],\n",
        "           size = 10000)"
      ],
      "metadata": {
        "colab": {
          "base_uri": "https://localhost:8080/"
        },
        "id": "_oo8DtxNeMTe",
        "outputId": "225777e7-72e2-4e45-ba67-92a0f659c60b"
      },
      "execution_count": 11,
      "outputs": [
        {
          "output_type": "execute_result",
          "data": {
            "text/plain": [
              "array([1, 1, 1, ..., 1, 1, 1])"
            ]
          },
          "metadata": {},
          "execution_count": 11
        }
      ]
    },
    {
      "cell_type": "markdown",
      "source": [
        "### Sampling: Gaussian\n",
        "\n",
        "Generate a sample of $10000$ points from $\\mathcal{N}(1, 4)$."
      ],
      "metadata": {
        "id": "H5zt6NetMe6E"
      }
    },
    {
      "cell_type": "code",
      "source": [
        "X = rng.normal(1, 2, size = 1_000_000)\n",
        "X.shape"
      ],
      "metadata": {
        "id": "gIj_MLI2MoPH",
        "colab": {
          "base_uri": "https://localhost:8080/"
        },
        "outputId": "de008acc-b442-4509-e743-bab4841b6ed5"
      },
      "execution_count": 4,
      "outputs": [
        {
          "output_type": "execute_result",
          "data": {
            "text/plain": [
              "(1000000,)"
            ]
          },
          "metadata": {},
          "execution_count": 4
        }
      ]
    },
    {
      "cell_type": "markdown",
      "source": [
        "### Plotting: Histogram\n",
        "\n",
        "Visualise the sample using a histogram."
      ],
      "metadata": {
        "id": "J7LkwESeOB2I"
      }
    },
    {
      "cell_type": "code",
      "source": [
        "plt.hist(X, bins = 1000, edgecolor = 'green');"
      ],
      "metadata": {
        "id": "-7YqSIyCOGNp",
        "colab": {
          "base_uri": "https://localhost:8080/",
          "height": 430
        },
        "outputId": "c7b1a909-e898-4af9-cc8c-3f7c2a1ff80c"
      },
      "execution_count": 15,
      "outputs": [
        {
          "output_type": "display_data",
          "data": {
            "text/plain": [
              "<Figure size 640x480 with 1 Axes>"
            ],
            "image/png": "[encoded data removed]"
          },
          "metadata": {}
        }
      ]
    },
    {
      "cell_type": "markdown",
      "source": [
        "### Sampling: Bivariate Gaussian\n",
        "\n",
        "Sample 1000 points from the following Bivariate Gaussian:\n",
        "\n",
        "$$\n",
        "\\mathcal{N} \\left( \\begin{bmatrix}1 \\\\ 2\\end{bmatrix}, \\begin{bmatrix}1 & -0.9\\\\-0.9 & 1\\end{bmatrix} \\right)\n",
        "$$"
      ],
      "metadata": {
        "id": "ZOF8A9BvOpLa"
      }
    },
    {
      "cell_type": "code",
      "source": [
        "mu = np.array([1, 2])\n",
        "cov = np.array([[1, -0.9], [-0.9, 1]])\n",
        "X = rng.multivariate_normal(mu, cov, size = 1_000_000)\n",
        "X.shape"
      ],
      "metadata": {
        "id": "c8TC0ZcjP7dj",
        "colab": {
          "base_uri": "https://localhost:8080/"
        },
        "outputId": "b6d88d6c-f1d6-490e-f97b-9cd301110160"
      },
      "execution_count": 16,
      "outputs": [
        {
          "output_type": "execute_result",
          "data": {
            "text/plain": [
              "(1000000, 2)"
            ]
          },
          "metadata": {},
          "execution_count": 16
        }
      ]
    },
    {
      "cell_type": "markdown",
      "source": [
        "### Plotting: Scatter plot\n",
        "\n",
        "Visualise the sample using a scatter plot. Try to zoom out of the plot and see what the shape of the distribution looks like. Change the values of the covariance matrix and observe how the shape changes."
      ],
      "metadata": {
        "id": "_VCj2JaXQJB0"
      }
    },
    {
      "cell_type": "code",
      "source": [
        "plt.rcParams['figure.figsize'] = [5, 5]\n",
        "plt.scatter(X[:, 0], X[:, 1])\n",
        "plt.xlim([-15, 15])\n",
        "plt.ylim([-15, 15]);"
      ],
      "metadata": {
        "id": "w6RX5CApZ1X3",
        "colab": {
          "base_uri": "https://localhost:8080/",
          "height": 451
        },
        "outputId": "4b3761f6-4522-4644-9681-71023301a6e4"
      },
      "execution_count": 6,
      "outputs": [
        {
          "output_type": "display_data",
          "data": {
            "text/plain": [
              "<Figure size 500x500 with 1 Axes>"
            ],
            "image/png": "[encoded data removed]"
          },
          "metadata": {}
        }
      ]
    },
    {
      "cell_type": "code",
      "source": [
        "## PCA\n",
        "# Data - n x d\n",
        "n, d = X.shape\n",
        "# Centering\n",
        "X -= X.mean(axis = 0)\n",
        "# Covariance Matrix\n",
        "C = X.T @ X / n\n",
        "# Eigenvalues and Eigenvectors\n",
        "eigval, eigvec = np.linalg.eigh(C)\n",
        "# P.C\n",
        "w_1, w_2 = eigvec[:, -1], eigvec[:, 0]\n",
        "print(f\"Eigenvalues: {eigval}\")\n",
        "# Visualize\n",
        "plt.scatter(X[:, 0], X[:, 1]);\n",
        "plt.xlim([-15, 15])\n",
        "plt.ylim([-15, 15])\n",
        "plt.axhline(color = 'black')\n",
        "plt.axvline(color = 'black')\n",
        "# PC\n",
        "x = np.linspace(-15, 15)\n",
        "y_1 = w_1[1] / w_1[0] * x\n",
        "plt.plot(x, y_1, color = 'red', label = 'PC-1');\n",
        "y_2 = w_2[1] / w_2[0] * x\n",
        "plt.plot(x, y_2, color = 'green', label = 'PC-2');"
      ],
      "metadata": {
        "colab": {
          "base_uri": "https://localhost:8080/",
          "height": 469
        },
        "id": "mrl5Y4O-qwP8",
        "outputId": "cd4a2cc2-0c55-49bb-bd64-653230df556e"
      },
      "execution_count": 10,
      "outputs": [
        {
          "output_type": "stream",
          "name": "stdout",
          "text": [
            "Eigenvalues: [0.10005143 1.90054004]\n"
          ]
        },
        {
          "output_type": "display_data",
          "data": {
            "text/plain": [
              "<Figure size 500x500 with 1 Axes>"
            ],
            "image/png": "[encoded data removed]"
          },
          "metadata": {}
        }
      ]
    },
    {
      "cell_type": "markdown",
      "source": [
        "### Estimating the sample covariance matrix\n",
        "\n",
        "Estimate the sample covaraince matrix using the above data. See how close it is to the population covariance matrix."
      ],
      "metadata": {
        "id": "6Czyp8syaPSq"
      }
    },
    {
      "cell_type": "code",
      "source": [
        "print(f\"Mean of X_0: {round(X[:, 0].mean(), 3)}\")\n",
        "print(f\"Mean of X_1: {round(X[:, 1].mean(), 3)}\")\n",
        "print(f\"Variance of X_0: {round(X[:, 0].var(), 5)}\")\n",
        "print(f\"Variance of X_1: {round(X[:, 1].var(), 5)}\")\n",
        "print(f\"Covariance matrix: \\n {np.cov(X[:, 0], X[:, 1])}\")"
      ],
      "metadata": {
        "colab": {
          "base_uri": "https://localhost:8080/"
        },
        "id": "4FGly-7Rp1LH",
        "outputId": "b94185de-d863-404f-c062-82b14debb268"
      },
      "execution_count": 33,
      "outputs": [
        {
          "output_type": "stream",
          "name": "stdout",
          "text": [
            "Mean of X_0: 1.002\n",
            "Mean of X_1: 1.999\n",
            "Variance of X_0: 0.99828\n",
            "Variance of X_1: 0.99806\n",
            "Covariance matrix: \n",
            " [[ 0.99828559 -0.89815575]\n",
            " [-0.89815575  0.9980563 ]]\n"
          ]
        }
      ]
    },
    {
      "cell_type": "markdown",
      "source": [
        "## GMM\n",
        "\n",
        "Draw 1000 samples from a Gaussian Mixture Model (GMM) that has three components, with mixture probabilities $[0.2, 0.3, 0.5]$ and means $[0, 5, 10]$. The standard deviation of all three Gaussians is the same and is equal to $1$. Visualise the samples using a histogram."
      ],
      "metadata": {
        "id": "sw2r6QPGF4qr"
      }
    },
    {
      "cell_type": "code",
      "source": [
        "pi = np.array([0.2, 0.3, 0.5])\n",
        "mu = np.array([0, 5, 10])\n",
        "sigma = np.array([1, 1, 1])\n",
        "\n",
        "n = 100_000\n",
        "X = np.zeros(n)\n",
        "for i in range(n):\n",
        "    # First choose a component\n",
        "    comp = rng.choice([0, 1, 2], p = pi)\n",
        "    # Sample a point from the component\n",
        "    X[i] = rng.normal(mu[comp], sigma[comp])\n",
        "\n",
        "plt.hist(X, bins = 100, edgecolor = 'black');"
      ],
      "metadata": {
        "id": "HkAo6FxLFOK3",
        "colab": {
          "base_uri": "https://localhost:8080/",
          "height": 445
        },
        "outputId": "7ae81a8a-da0a-4faf-8793-9dd676015a76"
      },
      "execution_count": 24,
      "outputs": [
        {
          "output_type": "display_data",
          "data": {
            "text/plain": [
              "<Figure size 500x500 with 1 Axes>"
            ],
            "image/png": "[encoded data removed]"
          },
          "metadata": {}
        }
      ]
    }
  ]
}