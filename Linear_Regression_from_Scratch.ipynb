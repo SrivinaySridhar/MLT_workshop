{
  "nbformat": 4,
  "nbformat_minor": 0,
  "metadata": {
    "colab": {
      "provenance": [],
      "include_colab_link": true
    },
    "kernelspec": {
      "name": "python3",
      "display_name": "Python 3"
    },
    "language_info": {
      "name": "python"
    }
  },
  "cells": [
    {
      "cell_type": "markdown",
      "metadata": {
        "id": "view-in-github",
        "colab_type": "text"
      },
      "source": [
        "<a href=\"https://colab.research.google.com/github/SrivinaySridhar/MLT_workshop/blob/main/Linear_Regression_from_Scratch.ipynb\" target=\"_parent\"><img src=\"https://colab.research.google.com/assets/colab-badge.svg\" alt=\"Open In Colab\"/></a>"
      ]
    },
    {
      "cell_type": "code",
      "execution_count": 1,
      "metadata": {
        "id": "3RQLKkM58BiF"
      },
      "outputs": [],
      "source": [
        "import numpy as np\n",
        "import matplotlib.pyplot as plt\n",
        "import random"
      ]
    },
    {
      "cell_type": "markdown",
      "source": [
        "## Data\n",
        "\n",
        "$\\mathbf{X}$ is a feature matrix corresponding to $n$ training examples, each represented with $d$ features and has shape $d \\times n$.  \n",
        "\\begin{equation}\n",
        "  \\mathbf{X}_{d \\times n} = \\begin{bmatrix}\n",
        "       | & | &\\dots & |\\\\\n",
        "       \\mathbf{x}_{1}&  \n",
        "       \\mathbf{x}_{2} &\n",
        "      \\dots &\n",
        "       \\mathbf{x}_{n}  \\\\\n",
        "        | & | &\\dots & |\\\\\n",
        "    \\end{bmatrix}\n",
        "\\end{equation}\n",
        "\n",
        "* here each $\\mathbf{x}_i \\in \\mathbb{R}^d$\n",
        "\n",
        "*  $\\mathbf{y}$ is a label vector of shape $n \\times 1$.  \n",
        "\\begin{equation}\n",
        "    \\mathbf{y} = \\begin{bmatrix}\n",
        "        y_{1}  \\\\\n",
        "        y_{2} \\\\\n",
        "        \\vdots  \\\\\n",
        "        y_{n} \\\\\n",
        "      \\end{bmatrix}\n",
        "\\end{equation}\n",
        "\n",
        "*  The $i$-th entry in this vector, $\\mathbf{y}[i]$ gives label for $i$-th example, which is denoted by $y_{i} \\in \\mathbb{R}$."
      ],
      "metadata": {
        "id": "FAlr8M-Z8Zor"
      }
    },
    {
      "cell_type": "markdown",
      "source": [
        "### Training data\n",
        "\n",
        "Generated from a deterministic distribution with Noise ~ Normal(0, 1)\n",
        "\n",
        "$$y_{train} = 2X^3 + 3X^2 + 4 + Noise$$"
      ],
      "metadata": {
        "id": "5xKGE4b6hTq5"
      }
    },
    {
      "cell_type": "code",
      "source": [
        "rng = np.random.default_rng(seed = 101)\n",
        "\n",
        "X_train = (np.arange(-2, 2, 0.01).reshape(1, -1))\n",
        "\n",
        "y_train = (2 * (X_train)**3 + 3 * (X_train)**2 + 4 + rng.normal(0, 1, X_train.shape[1]).reshape(1, -1)).T"
      ],
      "metadata": {
        "id": "GbDDcyLKiGsq"
      },
      "execution_count": 2,
      "outputs": []
    },
    {
      "cell_type": "code",
      "source": [
        "X_train.shape, y_train.shape"
      ],
      "metadata": {
        "colab": {
          "base_uri": "https://localhost:8080/"
        },
        "id": "W5D5VxgK_A6o",
        "outputId": "4bb0b53a-544d-495f-82a7-59062565794e"
      },
      "execution_count": 3,
      "outputs": [
        {
          "output_type": "execute_result",
          "data": {
            "text/plain": [
              "((1, 400), (400, 1))"
            ]
          },
          "metadata": {},
          "execution_count": 3
        }
      ]
    },
    {
      "cell_type": "code",
      "source": [
        "plt.scatter(X_train, y_train);"
      ],
      "metadata": {
        "colab": {
          "base_uri": "https://localhost:8080/",
          "height": 430
        },
        "id": "OUqra1H_A_vb",
        "outputId": "352ebb52-e42b-420b-a87c-e396976ce520"
      },
      "execution_count": 4,
      "outputs": [
        {
          "output_type": "display_data",
          "data": {
            "text/plain": [
              "<Figure size 640x480 with 1 Axes>"
            ],
            "image/png": "[encoded data removed]"
          },
          "metadata": {}
        }
      ]
    },
    {
      "cell_type": "markdown",
      "source": [
        "### Test data\n",
        "\n",
        "Generated from a deterministic distribution with Noise ~ Normal(0, 2)\n",
        "\n",
        "$$y_{test} = 2X^3 + 3X^2 + 4 + Noise$$"
      ],
      "metadata": {
        "id": "ffSQPM_4BQya"
      }
    },
    {
      "cell_type": "code",
      "source": [
        "rng = np.random.default_rng(seed = 102)\n",
        "\n",
        "X_test = np.arange(-2, 2, 0.02).reshape(1, -1)\n",
        "\n",
        "y_test = (2 * (X_test)**3 + 3 * (X_test)**2 + 4 + rng.normal(0, 2, X_test.shape[1]).reshape(1, -1)).T"
      ],
      "metadata": {
        "id": "kACpsUAh8Xpx"
      },
      "execution_count": 5,
      "outputs": []
    },
    {
      "cell_type": "code",
      "source": [
        "X_test.shape, y_test.shape"
      ],
      "metadata": {
        "colab": {
          "base_uri": "https://localhost:8080/"
        },
        "id": "7qbkXfUKwmF3",
        "outputId": "147c7020-57e5-4f7a-d897-394b77f6a8e6"
      },
      "execution_count": 6,
      "outputs": [
        {
          "output_type": "execute_result",
          "data": {
            "text/plain": [
              "((1, 200), (200, 1))"
            ]
          },
          "metadata": {},
          "execution_count": 6
        }
      ]
    },
    {
      "cell_type": "markdown",
      "source": [
        "## Model\n",
        "\n",
        "Linear regression model for the dataset ${\\mathbb{x}, y}$ is given as\n",
        "$$h_w(\\mathbb{x}) = w_1x^{1}+w_2x^{2}+...+w_dx^{d} =  \\mathbf{x}^Tw\n",
        "$$\n",
        "\n",
        "where $x^{i}$ is the $i^{th}$ feature of the data point $\\mathbf{x}$ and $w = [w_1, w_2, ...w_d]^T$ is the weight vector.\n",
        "\n",
        "\n",
        "Notice that above model always pass through the origin but for a given dataset, best fit model need not pass through the origin. To tackle this issue, we add an intercept $w_0$ in the model and set the corresponding featrue $x^{0}$ to $1$. That is\n",
        "\n",
        "$$h_w(\\mathbb{x}) =w_0x^{0}+ w_1x^{1}+w_2x^{2}+...+w_dx^{n} =  \\mathbf{x}^Tw\n",
        "$$\n",
        "\n",
        "We call $x^{0}$ the dummy feature and set its value to 1 for each examples. Now $w$ is of shape $(d+1, 1)$ and $\\mathbf{X}$ is of shape $(d+1, n)$ where the first row of $\\mathbf{X}$ has entries as 1.\n"
      ],
      "metadata": {
        "id": "EmK77bhCkKI-"
      }
    },
    {
      "cell_type": "markdown",
      "source": [
        "### Add dummy feature"
      ],
      "metadata": {
        "id": "A156drNBk37x"
      }
    },
    {
      "cell_type": "code",
      "source": [
        "dummy_feature = np.ones(X_train.shape[1])\n",
        "X = np.row_stack((dummy_feature, X_train))"
      ],
      "metadata": {
        "id": "h1SiEEmyCgCx"
      },
      "execution_count": 7,
      "outputs": []
    },
    {
      "cell_type": "code",
      "source": [
        "X.shape"
      ],
      "metadata": {
        "colab": {
          "base_uri": "https://localhost:8080/"
        },
        "id": "jFzjXIybC6Ij",
        "outputId": "ab89aa05-3933-4ffc-dbf5-29041fde42d7"
      },
      "execution_count": 8,
      "outputs": [
        {
          "output_type": "execute_result",
          "data": {
            "text/plain": [
              "(2, 400)"
            ]
          },
          "metadata": {},
          "execution_count": 8
        }
      ]
    },
    {
      "cell_type": "markdown",
      "source": [
        "Test data"
      ],
      "metadata": {
        "id": "ivJZNL_aC8_Q"
      }
    },
    {
      "cell_type": "code",
      "source": [
        "dummy_feature_t = np.ones(X_test.shape[1])\n",
        "X_t = np.row_stack((dummy_feature_t, X_test))"
      ],
      "metadata": {
        "id": "vIZA0Ls6DA-3"
      },
      "execution_count": 9,
      "outputs": []
    },
    {
      "cell_type": "code",
      "source": [
        "X_t.shape"
      ],
      "metadata": {
        "colab": {
          "base_uri": "https://localhost:8080/"
        },
        "id": "BhLm2D8iDXpn",
        "outputId": "92b9fa7e-21a5-4236-b7b7-db235c854423"
      },
      "execution_count": 10,
      "outputs": [
        {
          "output_type": "execute_result",
          "data": {
            "text/plain": [
              "(2, 200)"
            ]
          },
          "metadata": {},
          "execution_count": 10
        }
      ]
    },
    {
      "cell_type": "markdown",
      "source": [
        "## Loss function\n",
        "\n",
        "The total loss is the sum of square of errors between actual and predicted labels for each training point.  \n",
        "\n",
        "The error for $i$-th training point is calculated as follows:\n",
        "\\begin{eqnarray}\n",
        "e^{(i)} &=& (\\mathrm{{actual\\ label} - {predicted\\ label}})^2 \\\\\n",
        "        &=& \\left ({y_{i}} -\n",
        "        {h_{\\mathbf{w}}(\\mathbf{x}_{i})} \\right)^2 \\\\\n",
        "        &=& \\left ({y_{i}} -\n",
        "        {\\mathbf{w}^T \\mathbf{x}_{i}} \\right)^2\n",
        "\\end{eqnarray}\n",
        "\n",
        "\n",
        "\n",
        "The total loss $L(\\mathbf{w})$ is sum of errors at each training point:\n",
        "\\begin{equation}\n",
        "L(\\mathbf{w}) = \\sum_{i=1}^{n} e^{(i)}\n",
        "\\end{equation}\n",
        "\n",
        "We divide this by $\\frac{1}{2}$ for mathematical convenience in later use:\n",
        "\n",
        "\n",
        "\\begin{eqnarray}\n",
        "  L(\\mathbf{w}) &=& \\frac{1}{2} \\sum_{i=1}^{n} e^{(i)} \\\\ &=&  \\frac{1}{2} \\left({{\\mathbf{X}^T \\mathbf{w}}} - \\mathbf{y} \\right)^T \\left({{\\mathbf{X}^T \\mathbf{w}}} - \\mathbf{y} \\right))\n",
        "\\end{eqnarray}\n"
      ],
      "metadata": {
        "id": "Wp1v00V9lBMd"
      }
    },
    {
      "cell_type": "markdown",
      "source": [
        "## Optimization\n",
        "\n"
      ],
      "metadata": {
        "id": "MQtN8F2j9r42"
      }
    },
    {
      "cell_type": "markdown",
      "source": [
        "#### 1. Normal equation\n",
        "\n",
        "Let's set $\\dfrac{\\partial L(\\mathbf{w})}{\\partial \\mathbf{w}}$ to 0 and solve for $\\mathbf{w}$:\n",
        "\\begin{eqnarray}\n",
        "\\frac{\\partial L(\\mathbf{w})}{\\partial \\mathbf{w}} &=& \\mathbf{X} \\mathbf{X}^T \\mathbf{w} - \\mathbf{X} \\mathbf{y} = 0 \\\\\n",
        "\\mathbf{X}^T \\mathbf{X} \\mathbf{w} &=& \\mathbf{X}^T \\mathbf{Y} \\\\\n",
        "\\mathbf{w} &=& \\left( \\mathbf{X} \\mathbf{X}^T \\right)^{-1} \\mathbf{X} \\mathbf{y}\n",
        "\\end{eqnarray}\n",
        "\n"
      ],
      "metadata": {
        "id": "GvxZvoJO-OIn"
      }
    },
    {
      "cell_type": "markdown",
      "source": [
        "#### Find weight vector and prediction for training and test dataset"
      ],
      "metadata": {
        "id": "gwcJYj2Ml71z"
      }
    },
    {
      "cell_type": "code",
      "source": [
        "### weight\n",
        "def weights(X, y):\n",
        "    return np.linalg.pinv(X@(X.T))@X@y"
      ],
      "metadata": {
        "id": "UiO64nmAeSkz"
      },
      "execution_count": 11,
      "outputs": []
    },
    {
      "cell_type": "code",
      "source": [
        "w = weights(X, y_train)\n",
        "w"
      ],
      "metadata": {
        "colab": {
          "base_uri": "https://localhost:8080/"
        },
        "id": "IUswb7ATD1l4",
        "outputId": "a73662af-167e-46c0-c5ed-229b8266ad9e"
      },
      "execution_count": 12,
      "outputs": [
        {
          "output_type": "execute_result",
          "data": {
            "text/plain": [
              "array([[7.93982825],\n",
              "       [4.79910241]])"
            ]
          },
          "metadata": {},
          "execution_count": 12
        }
      ]
    },
    {
      "cell_type": "code",
      "source": [
        "### Prediction\n",
        "def pred(X, w):\n",
        "    return (X.T)@w"
      ],
      "metadata": {
        "id": "b_KErNi9eXTm"
      },
      "execution_count": 13,
      "outputs": []
    },
    {
      "cell_type": "code",
      "source": [
        "# Store the train predictions in y_hat\n",
        "y_hat = pred(X, w)"
      ],
      "metadata": {
        "id": "TulEVIf2EE_0"
      },
      "execution_count": 14,
      "outputs": []
    },
    {
      "cell_type": "code",
      "source": [
        "# Store the test predictions in y_test_hat\n",
        "y_test_hat = pred(X_t, w)"
      ],
      "metadata": {
        "id": "AKrxHgM8wSKd"
      },
      "execution_count": 15,
      "outputs": []
    },
    {
      "cell_type": "markdown",
      "source": [
        "### Plot weight vector"
      ],
      "metadata": {
        "id": "ohC5eG-GETPq"
      }
    },
    {
      "cell_type": "code",
      "source": [
        "### Plot weight vector\n",
        "plt.scatter(X_train, y_train)\n",
        "axes = plt.gca() #Gets coordinate axis\n",
        "\n",
        "x_values = np.array(axes.get_xlim())\n",
        "y_values = w[0] + w[1]*x_values\n",
        "\n",
        "plt.plot(x_values, y_values, 'r-');"
      ],
      "metadata": {
        "id": "PEUE5Fhvea3Q",
        "colab": {
          "base_uri": "https://localhost:8080/",
          "height": 430
        },
        "outputId": "64ca162c-65f8-4486-be75-ed165fe1c293"
      },
      "execution_count": 16,
      "outputs": [
        {
          "output_type": "display_data",
          "data": {
            "text/plain": [
              "<Figure size 640x480 with 1 Axes>"
            ],
            "image/png": "[encoded data removed]"
          },
          "metadata": {}
        }
      ]
    },
    {
      "cell_type": "markdown",
      "source": [
        "## Evaluation\n",
        "\n",
        "##### RMSE $$ \\sqrt{\\dfrac{1}{n}\\sum\\limits_{i=1}^{n} (y_i- \\hat{y}_i)^2}\n",
        "$$\n",
        "\n"
      ],
      "metadata": {
        "id": "Sk1KvxpCn1Xr"
      }
    },
    {
      "cell_type": "code",
      "source": [
        "### Loss function\n",
        "def loss(y, y_hat):\n",
        "    return np.sqrt(np.mean((y - y_hat)**2))"
      ],
      "metadata": {
        "id": "zVMo6BF_ediw"
      },
      "execution_count": 17,
      "outputs": []
    },
    {
      "cell_type": "code",
      "source": [
        "# Training error\n",
        "loss(y_train, y_hat)"
      ],
      "metadata": {
        "colab": {
          "base_uri": "https://localhost:8080/"
        },
        "id": "1vbazha1F34d",
        "outputId": "7a8774af-9223-4834-e670-ee0b6ae974a6"
      },
      "execution_count": 18,
      "outputs": [
        {
          "output_type": "execute_result",
          "data": {
            "text/plain": [
              "4.477002001803876"
            ]
          },
          "metadata": {},
          "execution_count": 18
        }
      ]
    },
    {
      "cell_type": "code",
      "source": [
        "# Test error\n",
        "loss(y_test, y_test_hat)"
      ],
      "metadata": {
        "colab": {
          "base_uri": "https://localhost:8080/"
        },
        "id": "uZvR-fkYR8DV",
        "outputId": "cef12c05-573e-48df-c3c4-c9065c7f4e0a"
      },
      "execution_count": 19,
      "outputs": [
        {
          "output_type": "execute_result",
          "data": {
            "text/plain": [
              "4.718639896481515"
            ]
          },
          "metadata": {},
          "execution_count": 19
        }
      ]
    },
    {
      "cell_type": "markdown",
      "source": [
        "#### 2. Gradient Descent"
      ],
      "metadata": {
        "id": "r8MYjq1qHnM1"
      }
    },
    {
      "cell_type": "markdown",
      "source": [
        "\n",
        "Gradient of a function $f$ at a point $x$ gives the direction of maximum change in $f$ at the point $x$.\n",
        "\n",
        "---\n",
        "\n",
        "We start at a random point $\\mathbf{w}$ at the loss function $L(\\mathbf{w})$.\n",
        "\n",
        "\n",
        "We basically need an update rule in gradient descent, which is as follows:\n",
        "\n",
        "\\begin{eqnarray}\n",
        "\\mathbf{w}_{k+1} &:=& \\mathbf{w}_k - \\alpha{\\frac{\\partial L(\\mathbf{w})}{\\partial \\mathbf{w}}} \\\\\n",
        "   &:=& \\mathbf{w}_k - \\alpha{\\left(\\mathbf{X} \\mathbf{X}^T \\mathbf{w}_{k} - \\mathbf{X} \\mathbf{y}\\right)} \\\\\n",
        "\\end{eqnarray}\n",
        "\n",
        "Note that this is the vectorized implementation.  It will make sure that all the parameters are updated in one go through this.\n"
      ],
      "metadata": {
        "id": "SxdpExPLHw5L"
      }
    },
    {
      "cell_type": "code",
      "source": [
        "# Gradient calculation\n",
        "def gradient(X, w, y):\n",
        "    return (X@X.T)@w - (X@y)"
      ],
      "metadata": {
        "id": "aJ08wiSLeiMx"
      },
      "execution_count": 20,
      "outputs": []
    },
    {
      "cell_type": "code",
      "source": [
        "# Gradient descent\n",
        "def grad_desc(X, y, eta, n_iter):\n",
        "    w_0 = np.zeros(X.shape[0]).reshape((2,-1))\n",
        "\n",
        "    for i in range(n_iter):\n",
        "        w_0 = w_0 - eta * gradient(X, w_0, y)\n",
        "\n",
        "    return w_0"
      ],
      "metadata": {
        "id": "29qM5zSLGefi"
      },
      "execution_count": 21,
      "outputs": []
    },
    {
      "cell_type": "code",
      "source": [
        "grad_desc(X, y_train, 0.001, 1000)"
      ],
      "metadata": {
        "colab": {
          "base_uri": "https://localhost:8080/"
        },
        "id": "5-1PnCfMHmnM",
        "outputId": "edd1a275-f57d-47ee-e3f9-4684d9cb7c4c"
      },
      "execution_count": 22,
      "outputs": [
        {
          "output_type": "execute_result",
          "data": {
            "text/plain": [
              "array([[7.93982825],\n",
              "       [4.79910241]])"
            ]
          },
          "metadata": {},
          "execution_count": 22
        }
      ]
    },
    {
      "cell_type": "code",
      "source": [
        "# Gradient descent output is close to optimum w\n",
        "w"
      ],
      "metadata": {
        "colab": {
          "base_uri": "https://localhost:8080/"
        },
        "id": "ACVMDjpcH32o",
        "outputId": "a2df7124-6fbe-46df-fb87-30c8cb01aa4b"
      },
      "execution_count": 23,
      "outputs": [
        {
          "output_type": "execute_result",
          "data": {
            "text/plain": [
              "array([[7.93982825],\n",
              "       [4.79910241]])"
            ]
          },
          "metadata": {},
          "execution_count": 23
        }
      ]
    },
    {
      "cell_type": "markdown",
      "source": [
        "### Number of iterations vs loss (for fixed alpha)"
      ],
      "metadata": {
        "id": "kQmmqovFoKkx"
      }
    },
    {
      "cell_type": "code",
      "source": [
        "# Plot nunber of iterations vs loss\n",
        "n_iter_list = [10, 20, 50, 100, 250]\n",
        "loss_list = []\n",
        "for n_iter in n_iter_list:\n",
        "    w = grad_desc(X, y_train, 0.0001, n_iter)\n",
        "    y_hat = pred(X, w)\n",
        "    loss_iter = loss(y_train, y_hat)\n",
        "    loss_list.append(loss_iter)"
      ],
      "metadata": {
        "id": "5rGjFal8ekdg"
      },
      "execution_count": 24,
      "outputs": []
    },
    {
      "cell_type": "code",
      "source": [
        "plt.plot(n_iter_list, loss_list)\n",
        "plt.title(\"Number of iterations vs Loss\");"
      ],
      "metadata": {
        "colab": {
          "base_uri": "https://localhost:8080/",
          "height": 452
        },
        "id": "trqok0rCJ6jG",
        "outputId": "77f24786-b2c7-4aa9-8b04-fc34e607b0b4"
      },
      "execution_count": 25,
      "outputs": [
        {
          "output_type": "display_data",
          "data": {
            "text/plain": [
              "<Figure size 640x480 with 1 Axes>"
            ],
            "image/png": "[encoded data removed]"
          },
          "metadata": {}
        }
      ]
    },
    {
      "cell_type": "markdown",
      "source": [
        "###SGD:\n",
        "\n"
      ],
      "metadata": {
        "id": "PDmCReoUofgs"
      }
    },
    {
      "cell_type": "markdown",
      "source": [
        "#### Implementation 1"
      ],
      "metadata": {
        "id": "NyPKXKxD1chB"
      }
    },
    {
      "cell_type": "code",
      "source": [
        "def SGD_1(X, y, eta, n_iter):\n",
        "    w_0_list = []\n",
        "    w_0 = np.zeros(X.shape[0]).reshape((2,-1))\n",
        "    batches = np.arange(0, X.shape[1], 20)\n",
        "\n",
        "    for i in range(n_iter):\n",
        "        indices = np.arange(batches[i%20], batches[i%20] + 20)\n",
        "\n",
        "        X_batch = X[:, indices]\n",
        "        y_batch = y[indices]\n",
        "\n",
        "        w_0 = w_0 - eta*(gradient(X_batch, w_0, y_batch))\n",
        "        w_0_list.append(w_0[1])\n",
        "\n",
        "    return w_0, w_0_list"
      ],
      "metadata": {
        "id": "BTz4yLWuwwb7"
      },
      "execution_count": 26,
      "outputs": []
    },
    {
      "cell_type": "code",
      "source": [
        "w_star, w_list = SGD_1(X, y_train, 0.001, 100)"
      ],
      "metadata": {
        "id": "A0n4GN79FyV8"
      },
      "execution_count": 27,
      "outputs": []
    },
    {
      "cell_type": "code",
      "source": [
        "print(w_star, '\\n')\n",
        "print(f\"Optimum: \\n {w}\")"
      ],
      "metadata": {
        "colab": {
          "base_uri": "https://localhost:8080/"
        },
        "outputId": "4d41c77a-50b4-4444-eb05-7f658feaa13e",
        "id": "38KDEO9IF2ec"
      },
      "execution_count": 28,
      "outputs": [
        {
          "output_type": "stream",
          "name": "stdout",
          "text": [
            "[[7.1102333 ]\n",
            " [4.98889206]] \n",
            "\n",
            "Optimum: \n",
            " [[7.939532  ]\n",
            " [4.79909273]]\n"
          ]
        }
      ]
    },
    {
      "cell_type": "code",
      "source": [
        "plt.scatter([i for i in range(len(w_list))], w_list);"
      ],
      "metadata": {
        "colab": {
          "base_uri": "https://localhost:8080/",
          "height": 430
        },
        "outputId": "1f8673d0-77c4-4b01-9dba-f527715c311a",
        "id": "bF7agj9JF2ee"
      },
      "execution_count": 29,
      "outputs": [
        {
          "output_type": "display_data",
          "data": {
            "text/plain": [
              "<Figure size 640x480 with 1 Axes>"
            ],
            "image/png": "[encoded data removed]"
          },
          "metadata": {}
        }
      ]
    },
    {
      "cell_type": "markdown",
      "source": [
        "#### Implementation 2"
      ],
      "metadata": {
        "id": "jPpspPvm1k1m"
      }
    },
    {
      "cell_type": "code",
      "source": [
        "def SGD_2(X, y, eta, n_iter, batch_size):\n",
        "    w_0_list = []\n",
        "    w_0 = np.zeros(X.shape[0]).reshape((2,-1))\n",
        "\n",
        "    for i in range(n_iter):\n",
        "        indices = random.sample(range(0, X.shape[1]), batch_size)\n",
        "\n",
        "        X_batch = X[:, indices]\n",
        "        y_batch = y[indices]\n",
        "\n",
        "        w_0 = w_0 - eta*(gradient(X_batch, w_0, y_batch))\n",
        "        w_0_list.append(w_0[1])\n",
        "\n",
        "    return w_0, w_0_list"
      ],
      "metadata": {
        "id": "36zVkHXuFtye"
      },
      "execution_count": 30,
      "outputs": []
    },
    {
      "cell_type": "code",
      "source": [
        "w_star, w_list = SGD_2(X, y_train, 0.001, 1000, 20)"
      ],
      "metadata": {
        "id": "NxONb5vnwvp6"
      },
      "execution_count": 31,
      "outputs": []
    },
    {
      "cell_type": "code",
      "source": [
        "print(w_star, '\\n')\n",
        "print(f\"Optimum: \\n {w}\")"
      ],
      "metadata": {
        "colab": {
          "base_uri": "https://localhost:8080/"
        },
        "id": "LFlfIVAJDEMQ",
        "outputId": "d60f9df0-3e73-4bec-ab79-5c642f3e773d"
      },
      "execution_count": 32,
      "outputs": [
        {
          "output_type": "stream",
          "name": "stdout",
          "text": [
            "[[7.82459257]\n",
            " [4.67107434]] \n",
            "\n",
            "Optimum: \n",
            " [[7.939532  ]\n",
            " [4.79909273]]\n"
          ]
        }
      ]
    },
    {
      "cell_type": "code",
      "source": [
        "plt.scatter([i for i in range(len(w_list))], w_list);"
      ],
      "metadata": {
        "colab": {
          "base_uri": "https://localhost:8080/",
          "height": 430
        },
        "id": "MXc2z1ADC84g",
        "outputId": "a0fdeb3c-edd2-4a2f-bfa4-da3f4f79f930"
      },
      "execution_count": 33,
      "outputs": [
        {
          "output_type": "display_data",
          "data": {
            "text/plain": [
              "<Figure size 640x480 with 1 Axes>"
            ],
            "image/png": "[encoded data removed]"
          },
          "metadata": {}
        }
      ]
    }
  ]
}